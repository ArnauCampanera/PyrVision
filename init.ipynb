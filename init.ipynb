{
 "cells": [
  {
   "cell_type": "markdown",
   "id": "f3fad981",
   "metadata": {},
   "source": [
    "# PyrVision - Model de detecció automàtica de mamifers del Pirineu Català."
   ]
  },
  {
   "cell_type": "code",
   "execution_count": 1,
   "id": "cf105a2e",
   "metadata": {},
   "outputs": [],
   "source": [
    "import csv\n",
    "from ultralytics import YOLO\n",
    "from pathlib import Path\n",
    "from PIL import Image\n",
    "from datetime import datetime"
   ]
  },
  {
   "cell_type": "markdown",
   "id": "f1ae0039",
   "metadata": {},
   "source": [
    "#### Opcions de PyrVision"
   ]
  },
  {
   "cell_type": "code",
   "execution_count": 2,
   "id": "2f854069",
   "metadata": {},
   "outputs": [],
   "source": [
    "#Valor de confiança en les prediccions en una escala de 0-1\n",
    "conf_COLOR = 0.8\n",
    "conf_BW = 0.6\n",
    "\n",
    "#Altres opcions\n",
    "rectangle=False\n",
    "\n",
    "#Ruta de la carpeta a vigilar\n",
    "watchDirectory = Path(\"inbox\")\n",
    "\n",
    "#Ruta de les prediccions\n",
    "prediction_labels_path = Path(\"runs\",\"detect\",\"predict\",\"labels\")\n",
    "prediction_path = Path(\"runs\",\"detect\",\"predict\")"
   ]
  },
  {
   "cell_type": "markdown",
   "id": "eadbdeef",
   "metadata": {},
   "source": [
    "Per coneixer quines espècies el model és capaç de detectar, carreguem el fitxer de classes del model."
   ]
  },
  {
   "cell_type": "code",
   "execution_count": 3,
   "id": "3ddd69a1",
   "metadata": {},
   "outputs": [
    {
     "name": "stdout",
     "output_type": "stream",
     "text": [
      "['Bos_taurus']\n",
      "['Capreolus_capreolus']\n",
      "['Felis_silvestris']\n",
      "['Lepus_europaeus']\n",
      "['Rupicapra_pyrenaica']\n",
      "['Sus_scrofa']\n",
      "['Vulpes_vulpes']\n",
      "['Meles_meles']\n",
      "['Cervus_elaphus']\n",
      "['Sciurus_vulgaris']\n",
      "['Ursus_arctos']\n",
      "['Homo_sapiens']\n",
      "['Dama_dama']\n",
      "['Canis_familiaris']\n",
      "['Equus_ferus']\n",
      "['Canis_lupus']\n",
      "['Vehicle']\n",
      "['Martes_sp']\n",
      "['Ovis_aries']\n",
      "['Capra_aegagrus']\n"
     ]
    }
   ],
   "source": [
    "# Obrir el fitxer CSV\n",
    "with open(Path(\"models\",\"especies.csv\"), 'r') as csvfile:\n",
    "    # Create a CSV reader object\n",
    "    reader = csv.reader(csvfile)\n",
    "\n",
    "    # Initialize an empty list\n",
    "    especies = []\n",
    "\n",
    "    # Iterate over each row in the CSV file\n",
    "    for row in reader:\n",
    "        # Append the row values to the list\n",
    "        especies.append(row)\n",
    "\n",
    "# Print the list of data\n",
    "for especie in especies:\n",
    "    print(especie)"
   ]
  },
  {
   "cell_type": "markdown",
   "id": "915c8f81",
   "metadata": {},
   "source": [
    "### Seguidament executarem una serie de funcions d'ajuda."
   ]
  },
  {
   "cell_type": "code",
   "execution_count": 4,
   "id": "e6487ddd",
   "metadata": {},
   "outputs": [],
   "source": [
    "#function to return files in a directory\n",
    "onlyfiles = [f.name for f in Path(watchDirectory).glob(\"*\")]"
   ]
  },
  {
   "cell_type": "code",
   "execution_count": 5,
   "id": "04e47a56",
   "metadata": {},
   "outputs": [],
   "source": [
    "def readPredictedSpecies():\n",
    "    detections = []\n",
    "    label=list(Path(prediction_labels_path).glob(\"*\"))\n",
    "    if len(label) != 0: \n",
    "        with open(Path(label[0]), 'r') as file:\n",
    "        # Read classes\n",
    "            linies = file.readlines()\n",
    "            for linia in linies:\n",
    "        # Remove leading/trailing whitespace and newline characters\n",
    "                especie = linia.split()\n",
    "                detections.append(especie[0])\n",
    "\n",
    "        # Print the first value\n",
    "        return (detections)\n",
    "    else:\n",
    "        return"
   ]
  },
  {
   "cell_type": "code",
   "execution_count": 6,
   "id": "65c999ee",
   "metadata": {},
   "outputs": [],
   "source": [
    "def storefiles(file):\n",
    "    especie = readPredictedSpecies()\n",
    "    if (especie is None) !=0:\n",
    "        #Si no hi ha cap detecció a la imatge\n",
    "        Path(\"predicted\",\"nuls\").mkdir(parents=True, exist_ok=True)\n",
    "        Path(watchDirectory,file).rename(Path(\"predicted\",\"nuls\"))\n",
    "    else:\n",
    "        Path(\"predicted\", *especies[int(especie[0])]).mkdir(parents=True, exist_ok=True)\n",
    "        Path(watchDirectory,file).rename(Path(\"predicted\", *especies[int(especie[0])]))\n",
    "        Path().glob(prediction_path,\"labels\").rename(Path(\"predicted\", *especies[int(especie[0])]))\n",
    "    path.rmdir(prediction_path)"
   ]
  },
  {
   "cell_type": "code",
   "execution_count": 7,
   "id": "8f4da02b",
   "metadata": {
    "scrolled": true
   },
   "outputs": [
    {
     "name": "stdout",
     "output_type": "stream",
     "text": [
      "\n",
      "image 1/1 /Users/arnau/classification/inbox/test.JPG: 672x896 1 Felis_silvestris, 1885.9ms\n",
      "Speed: 6.8ms preprocess, 1885.9ms inference, 1.5ms postprocess per image at shape (1, 3, 672, 896)\n",
      "Results saved to \u001b[1mruns/detect/predict\u001b[0m\n",
      "1 label saved to runs/detect/predict/labels\n"
     ]
    },
    {
     "ename": "IsADirectoryError",
     "evalue": "[Errno 21] Is a directory: 'inbox/test.JPG' -> 'predicted/Felis_silvestris'",
     "output_type": "error",
     "traceback": [
      "\u001b[0;31m---------------------------------------------------------------------------\u001b[0m",
      "\u001b[0;31mIsADirectoryError\u001b[0m                         Traceback (most recent call last)",
      "Cell \u001b[0;32mIn[7], line 14\u001b[0m\n\u001b[1;32m     12\u001b[0m     results \u001b[38;5;241m=\u001b[39m model\u001b[38;5;241m.\u001b[39mpredict(imatge, save_txt\u001b[38;5;241m=\u001b[39m\u001b[38;5;28;01mTrue\u001b[39;00m, save\u001b[38;5;241m=\u001b[39mrectangle, conf\u001b[38;5;241m=\u001b[39mconf_COLOR)\n\u001b[1;32m     13\u001b[0m readPredictedSpecies\n\u001b[0;32m---> 14\u001b[0m \u001b[43mstorefiles\u001b[49m\u001b[43m(\u001b[49m\u001b[43mfile\u001b[49m\u001b[43m)\u001b[49m\n",
      "Cell \u001b[0;32mIn[6], line 9\u001b[0m, in \u001b[0;36mstorefiles\u001b[0;34m(file)\u001b[0m\n\u001b[1;32m      7\u001b[0m \u001b[38;5;28;01melse\u001b[39;00m:\n\u001b[1;32m      8\u001b[0m     Path(\u001b[38;5;124m\"\u001b[39m\u001b[38;5;124mpredicted\u001b[39m\u001b[38;5;124m\"\u001b[39m, \u001b[38;5;241m*\u001b[39mespecies[\u001b[38;5;28mint\u001b[39m(especie[\u001b[38;5;241m0\u001b[39m])])\u001b[38;5;241m.\u001b[39mmkdir(parents\u001b[38;5;241m=\u001b[39m\u001b[38;5;28;01mTrue\u001b[39;00m, exist_ok\u001b[38;5;241m=\u001b[39m\u001b[38;5;28;01mTrue\u001b[39;00m)\n\u001b[0;32m----> 9\u001b[0m     \u001b[43mPath\u001b[49m\u001b[43m(\u001b[49m\u001b[43mwatchDirectory\u001b[49m\u001b[43m,\u001b[49m\u001b[43mfile\u001b[49m\u001b[43m)\u001b[49m\u001b[38;5;241;43m.\u001b[39;49m\u001b[43mrename\u001b[49m\u001b[43m(\u001b[49m\u001b[43mPath\u001b[49m\u001b[43m(\u001b[49m\u001b[38;5;124;43m\"\u001b[39;49m\u001b[38;5;124;43mpredicted\u001b[39;49m\u001b[38;5;124;43m\"\u001b[39;49m\u001b[43m,\u001b[49m\u001b[43m \u001b[49m\u001b[38;5;241;43m*\u001b[39;49m\u001b[43mespecies\u001b[49m\u001b[43m[\u001b[49m\u001b[38;5;28;43mint\u001b[39;49m\u001b[43m(\u001b[49m\u001b[43mespecie\u001b[49m\u001b[43m[\u001b[49m\u001b[38;5;241;43m0\u001b[39;49m\u001b[43m]\u001b[49m\u001b[43m)\u001b[49m\u001b[43m]\u001b[49m\u001b[43m)\u001b[49m\u001b[43m)\u001b[49m\n\u001b[1;32m     10\u001b[0m     Path()\u001b[38;5;241m.\u001b[39mglob(prediction_path,\u001b[38;5;124m\"\u001b[39m\u001b[38;5;124mlabels\u001b[39m\u001b[38;5;124m\"\u001b[39m)\u001b[38;5;241m.\u001b[39mrename(Path(\u001b[38;5;124m\"\u001b[39m\u001b[38;5;124mpredicted\u001b[39m\u001b[38;5;124m\"\u001b[39m, \u001b[38;5;241m*\u001b[39mespecies[\u001b[38;5;28mint\u001b[39m(especie[\u001b[38;5;241m0\u001b[39m])]))\n\u001b[1;32m     11\u001b[0m path\u001b[38;5;241m.\u001b[39mrmdir(prediction_path)\n",
      "File \u001b[0;32m~/miniconda3/envs/yolov8/lib/python3.9/pathlib.py:1382\u001b[0m, in \u001b[0;36mPath.rename\u001b[0;34m(self, target)\u001b[0m\n\u001b[1;32m   1372\u001b[0m \u001b[38;5;28;01mdef\u001b[39;00m \u001b[38;5;21mrename\u001b[39m(\u001b[38;5;28mself\u001b[39m, target):\n\u001b[1;32m   1373\u001b[0m \u001b[38;5;250m    \u001b[39m\u001b[38;5;124;03m\"\"\"\u001b[39;00m\n\u001b[1;32m   1374\u001b[0m \u001b[38;5;124;03m    Rename this path to the target path.\u001b[39;00m\n\u001b[1;32m   1375\u001b[0m \n\u001b[0;32m   (...)\u001b[0m\n\u001b[1;32m   1380\u001b[0m \u001b[38;5;124;03m    Returns the new Path instance pointing to the target path.\u001b[39;00m\n\u001b[1;32m   1381\u001b[0m \u001b[38;5;124;03m    \"\"\"\u001b[39;00m\n\u001b[0;32m-> 1382\u001b[0m     \u001b[38;5;28;43mself\u001b[39;49m\u001b[38;5;241;43m.\u001b[39;49m\u001b[43m_accessor\u001b[49m\u001b[38;5;241;43m.\u001b[39;49m\u001b[43mrename\u001b[49m\u001b[43m(\u001b[49m\u001b[38;5;28;43mself\u001b[39;49m\u001b[43m,\u001b[49m\u001b[43m \u001b[49m\u001b[43mtarget\u001b[49m\u001b[43m)\u001b[49m\n\u001b[1;32m   1383\u001b[0m     \u001b[38;5;28;01mreturn\u001b[39;00m \u001b[38;5;28mself\u001b[39m\u001b[38;5;241m.\u001b[39m\u001b[38;5;18m__class__\u001b[39m(target)\n",
      "\u001b[0;31mIsADirectoryError\u001b[0m: [Errno 21] Is a directory: 'inbox/test.JPG' -> 'predicted/Felis_silvestris'"
     ]
    }
   ],
   "source": [
    "for file in onlyfiles:\n",
    "    im = Image.open(Path(watchDirectory, file))\n",
    "    w,h = im.size\n",
    "    impalette = im.getpixel((w/2,h/2))\n",
    "    if impalette[0] == impalette [1] == impalette [2]:\n",
    "        model = YOLO(Path(\"models\",\"best_BW.pt\"))\n",
    "        imatge = Path(watchDirectory, file)\n",
    "        results = model.predict(imatge, save_txt=True, save=rectangle, conf=conf_BW)\n",
    "    else:\n",
    "        model = YOLO(Path(\"models\",\"best_COLOR.pt\"))\n",
    "        imatge = Path(watchDirectory, file)\n",
    "        results = model.predict(imatge, save_txt=True, save=rectangle, conf=conf_COLOR)\n",
    "    readPredictedSpecies\n",
    "    storefiles(file)"
   ]
  },
  {
   "cell_type": "code",
   "execution_count": 8,
   "id": "b148302f-37ff-43ca-a0e4-ec5dce877061",
   "metadata": {},
   "outputs": [
    {
     "name": "stdout",
     "output_type": "stream",
     "text": [
      "['test.JPG']\n"
     ]
    }
   ],
   "source": [
    "print(onlyfiles)"
   ]
  },
  {
   "cell_type": "code",
   "execution_count": null,
   "id": "fc0f311c-df42-48a7-81e7-1746e9dc54e9",
   "metadata": {},
   "outputs": [],
   "source": []
  }
 ],
 "metadata": {
  "kernelspec": {
   "display_name": "Python 3",
   "language": "python",
   "name": "python3"
  },
  "language_info": {
   "codemirror_mode": {
    "name": "ipython",
    "version": 3
   },
   "file_extension": ".py",
   "mimetype": "text/x-python",
   "name": "python",
   "nbconvert_exporter": "python",
   "pygments_lexer": "ipython3",
   "version": "3.9.18"
  }
 },
 "nbformat": 4,
 "nbformat_minor": 5
}
