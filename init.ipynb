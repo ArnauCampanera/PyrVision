{
 "cells": [
  {
   "cell_type": "markdown",
   "id": "f3fad981",
   "metadata": {},
   "source": [
    "# PyrVision - Model de detecció automàtica de mamifers del Pirineu Català."
   ]
  },
  {
   "cell_type": "code",
   "execution_count": 8,
   "id": "cf105a2e",
   "metadata": {},
   "outputs": [],
   "source": [
    "import csv\n",
    "from ultralytics import YOLO\n",
    "from pathlib import Path\n",
    "from PIL import Image\n",
    "from datetime import datetime"
   ]
  },
  {
   "cell_type": "markdown",
   "id": "f1ae0039",
   "metadata": {},
   "source": [
    "#### Opcions de PyrVision"
   ]
  },
  {
   "cell_type": "code",
   "execution_count": 9,
   "id": "2f854069",
   "metadata": {},
   "outputs": [],
   "source": [
    "#Valor de confiança en les prediccions en una escala de 0-1\n",
    "conf_COLOR = 0.60\n",
    "conf_BW = 0.60\n",
    "\n",
    "#Altres opcions\n",
    "rectangle=True\n",
    "\n",
    "#Ruta de la carpeta a vigilar\n",
    "watchDirectory = Path(\"inbox\")\n",
    "\n",
    "#Ruta de les prediccions\n",
    "prediction_labels_path = Path(\"runs\",\"detect\",\"predict\",\"labels\")\n",
    "prediction_path = Path(\"runs\",\"detect\",\"predict\")"
   ]
  },
  {
   "cell_type": "markdown",
   "id": "eadbdeef",
   "metadata": {},
   "source": [
    "Per coneixer quines espècies el model és capaç de detectar, carreguem el fitxer de classes del model."
   ]
  },
  {
   "cell_type": "code",
   "execution_count": 10,
   "id": "3ddd69a1",
   "metadata": {},
   "outputs": [
    {
     "name": "stdout",
     "output_type": "stream",
     "text": [
      "['Bos_taurus']\n",
      "['Capreolus_capreolus']\n",
      "['Felis_silvestris']\n",
      "['Lepus_europaeus']\n",
      "['Rupicapra_pyrenaica']\n",
      "['Sus_scrofa']\n",
      "['Vulpes_vulpes']\n",
      "['Meles_meles']\n",
      "['Cervus_elaphus']\n",
      "['Sciurus_vulgaris']\n",
      "['Ursus_arctos']\n",
      "['Homo_sapiens']\n",
      "['Dama_dama']\n",
      "['Canis_familiaris']\n",
      "['Equus_ferus']\n",
      "['Canis_lupus']\n",
      "['Vehicle']\n",
      "['Martes_sp']\n",
      "['Ovis_aries']\n",
      "['Capra_aegagrus']\n"
     ]
    }
   ],
   "source": [
    "# Obrir el fitxer CSV\n",
    "with open(Path(\"models\",\"especies.csv\"), 'r') as csvfile:\n",
    "    # Create a CSV reader object\n",
    "    reader = csv.reader(csvfile)\n",
    "\n",
    "    # Initialize an empty list\n",
    "    especies = []\n",
    "\n",
    "    # Iterate over each row in the CSV file\n",
    "    for row in reader:\n",
    "        # Append the row values to the list\n",
    "        especies.append(row)\n",
    "\n",
    "# Print the list of data\n",
    "for especie in especies:\n",
    "    print(especie)"
   ]
  },
  {
   "cell_type": "markdown",
   "id": "915c8f81",
   "metadata": {},
   "source": [
    "### Seguidament executarem una serie de funcions d'ajuda."
   ]
  },
  {
   "cell_type": "code",
   "execution_count": 11,
   "id": "e6487ddd",
   "metadata": {},
   "outputs": [],
   "source": [
    "#function to return files in a directory\n",
    "onlyfiles = [f.name for f in Path(watchDirectory).glob(\"*\")]"
   ]
  },
  {
   "cell_type": "code",
   "execution_count": 12,
   "id": "04e47a56",
   "metadata": {},
   "outputs": [],
   "source": [
    "def readPredictedSpecies():\n",
    "    detections = []\n",
    "    label=list(Path(prediction_labels_path).glob(\"*\"))\n",
    "    if len(label) != 0: \n",
    "        with open(Path(label[0]), 'r') as file:\n",
    "        # Read classes\n",
    "            linies = file.readlines()\n",
    "            for linia in linies:\n",
    "        # Remove leading/trailing whitespace and newline characters\n",
    "                especie = linia.split()\n",
    "                detections.append(especie[0])\n",
    "\n",
    "        # Print the first value\n",
    "        return (detections)\n",
    "    else:\n",
    "        return"
   ]
  },
  {
   "cell_type": "code",
   "execution_count": 13,
   "id": "65c999ee",
   "metadata": {},
   "outputs": [],
   "source": [
    "def storefiles(file):\n",
    "    especie = readPredictedSpecies()\n",
    "    if (especie is None) !=0:\n",
    "        #Si no hi ha cap detecció a la imatge\n",
    "        Path(\"predicted\",\"nuls\").mkdir(parents=True, exist_ok=True)\n",
    "        Path(watchDirectory,file).rename(Path(\"predicted\",file))\n",
    "        prediction_labels_path.rmdir()\n",
    "        [i.rename(Path(\"predicted\",\"nuls\",i.name)) for i in Path(prediction_path).glob(\"*\")]\n",
    "    else:\n",
    "        Path(\"predicted\", *especies[int(especie[0])]).mkdir(parents=True, exist_ok=True)\n",
    "        Path(watchDirectory,file).rename(Path(\"predicted\",file))\n",
    "        [i.rename(Path(\"predicted\", *especies[int(especie[0])],i.name)) for i in Path(prediction_labels_path).glob(\"*\")]\n",
    "        prediction_labels_path.rmdir()\n",
    "        [i.rename(Path(\"predicted\", *especies[int(especie[0])],i.name)) for i in Path(prediction_path).glob(\"*\")]\n",
    "    prediction_path.rmdir()"
   ]
  },
  {
   "cell_type": "code",
   "execution_count": 14,
   "id": "8f4da02b",
   "metadata": {
    "scrolled": true
   },
   "outputs": [
    {
     "name": "stdout",
     "output_type": "stream",
     "text": [
      "\n",
      "image 1/1 /Users/arnau/classification/inbox/IMAG1875.JPG: 672x896 1 Dama_dama, 4582.5ms\n",
      "Speed: 9.2ms preprocess, 4582.5ms inference, 2.1ms postprocess per image at shape (1, 3, 672, 896)\n",
      "Results saved to \u001b[1mruns/detect/predict\u001b[0m\n",
      "1 label saved to runs/detect/predict/labels\n",
      "\n",
      "image 1/1 /Users/arnau/classification/inbox/IMAG0009.JPG: 672x896 2 Capreolus_capreoluss, 4673.9ms\n",
      "Speed: 10.0ms preprocess, 4673.9ms inference, 2.5ms postprocess per image at shape (1, 3, 672, 896)\n",
      "Results saved to \u001b[1mruns/detect/predict\u001b[0m\n",
      "1 label saved to runs/detect/predict/labels\n",
      "\n",
      "image 1/1 /Users/arnau/classification/inbox/IMAG0091.JPG: 672x896 1 Capreolus_capreolus, 1 Dama_dama, 4617.2ms\n",
      "Speed: 9.1ms preprocess, 4617.2ms inference, 2.3ms postprocess per image at shape (1, 3, 672, 896)\n",
      "Results saved to \u001b[1mruns/detect/predict\u001b[0m\n",
      "1 label saved to runs/detect/predict/labels\n"
     ]
    }
   ],
   "source": [
    "for file in onlyfiles:\n",
    "    im = Image.open(Path(watchDirectory, file))\n",
    "    w,h = im.size\n",
    "    impalette = im.getpixel((w/2,h/2))\n",
    "    if impalette[0] == impalette [1] == impalette [2]:\n",
    "        model = YOLO(Path(\"models\",\"best_BW.pt\"))\n",
    "        imatge = Path(watchDirectory, file)\n",
    "        results = model.predict(imatge, save_txt=True, save=True, show_boxes=rectangle, conf=conf_BW)\n",
    "    else:\n",
    "        model = YOLO(Path(\"models\",\"best_COLOR.pt\"))\n",
    "        imatge = Path(watchDirectory, file)\n",
    "        results = model.predict(imatge, save_txt=True, save=True, show_boxes=rectangle, conf=conf_COLOR)\n",
    "    readPredictedSpecies\n",
    "    storefiles(file)"
   ]
  },
  {
   "cell_type": "code",
   "execution_count": null,
   "id": "c40a0ff8-0753-4167-b439-117db1cc6b09",
   "metadata": {},
   "outputs": [],
   "source": []
  }
 ],
 "metadata": {
  "kernelspec": {
   "display_name": "Python 3",
   "language": "python",
   "name": "python3"
  },
  "language_info": {
   "codemirror_mode": {
    "name": "ipython",
    "version": 3
   },
   "file_extension": ".py",
   "mimetype": "text/x-python",
   "name": "python",
   "nbconvert_exporter": "python",
   "pygments_lexer": "ipython3",
   "version": "3.9.18"
  }
 },
 "nbformat": 4,
 "nbformat_minor": 5
}
