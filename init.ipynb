{
 "cells": [
  {
   "cell_type": "markdown",
   "id": "f3fad981",
   "metadata": {},
   "source": [
    "# Detecció en temps real de mamífers"
   ]
  },
  {
   "cell_type": "code",
   "execution_count": null,
   "id": "cf105a2e",
   "metadata": {},
   "outputs": [],
   "source": [
    "import csv\n",
    "from ultralytics import YOLO\n",
    "from PIL import Image\n",
    "import os\n",
    "import os.path\n",
    "import shutil\n",
    "from datetime import datetime"
   ]
  },
  {
   "cell_type": "markdown",
   "id": "eadbdeef",
   "metadata": {},
   "source": [
    "Per coneixer quines espècies el model és capaç de detectar, carreguem el fitxer de classes del model."
   ]
  },
  {
   "cell_type": "code",
   "execution_count": null,
   "id": "3ddd69a1",
   "metadata": {},
   "outputs": [],
   "source": [
    "# Obrir el fitxer CSV\n",
    "with open('models/especies.csv', 'r') as csvfile:\n",
    "    # Create a CSV reader object\n",
    "    reader = csv.reader(csvfile)\n",
    "\n",
    "    # Initialize an empty list\n",
    "    especies = []\n",
    "\n",
    "    # Iterate over each row in the CSV file\n",
    "    for row in reader:\n",
    "        # Append the row values to the list\n",
    "        especies.append(row)\n",
    "\n",
    "# Print the list of data\n",
    "for especie in especies:\n",
    "    print(especie)"
   ]
  },
  {
   "cell_type": "markdown",
   "id": "f1ae0039",
   "metadata": {},
   "source": [
    "Definim la ruta de la carpeta on aniran a parar les imatges provinents de la càmera de fototrampeig."
   ]
  },
  {
   "cell_type": "code",
   "execution_count": null,
   "id": "2f854069",
   "metadata": {},
   "outputs": [],
   "source": [
    "#Ruta de la carpeta a vigilar\n",
    "watchDirectory = r'inbox'\n",
    "\n",
    "#Ruta de les prediccions\n",
    "prediction_labels_path = \"runs/detect/predict/labels\"\n",
    "prediction_path = \"runs/detect/predict\""
   ]
  },
  {
   "cell_type": "markdown",
   "id": "915c8f81",
   "metadata": {},
   "source": [
    "### Seguidament executarem una serie de funcions d'ajuda."
   ]
  },
  {
   "cell_type": "code",
   "execution_count": null,
   "id": "e6487ddd",
   "metadata": {},
   "outputs": [],
   "source": [
    "#function to return files in a directory\n",
    "onlyfiles = [f for f in os.listdir(watchDirectory) if os.path.isfile(os.path.join(watchDirectory, f))]"
   ]
  },
  {
   "cell_type": "code",
   "execution_count": null,
   "id": "04e47a56",
   "metadata": {},
   "outputs": [],
   "source": [
    "def readPredictedSpecies():\n",
    "    detections = []\n",
    "    label=os.listdir(prediction_labels_path)\n",
    "    if len(label) != 0: \n",
    "        with open('{}/{}'.format(prediction_labels_path,label[0]), 'r') as file:\n",
    "        # Read classes\n",
    "            linies = file.readlines()\n",
    "            for linia in linies:\n",
    "        # Remove leading/trailing whitespace and newline characters\n",
    "                especie = linia.split()\n",
    "                detections.append(especie[0])\n",
    "\n",
    "        # Print the first value\n",
    "        return (detections)\n",
    "    else:\n",
    "        return"
   ]
  },
  {
   "cell_type": "code",
   "execution_count": null,
   "id": "65c999ee",
   "metadata": {},
   "outputs": [],
   "source": [
    "def storefiles(file):\n",
    "    especie = readPredictedSpecies()\n",
    "    if (especie is None) !=0:\n",
    "        #Si no hi ha cap detecció a la imatge\n",
    "        try:\n",
    "            shutil.move('{}/{}'.format(watchDirectory, file), '{}/{}/'.format('predicted', 'nuls'))\n",
    "        except IOError as io_err:\n",
    "            os.makedirs(os.path.dirname('{}/{}/'.format('predicted', 'nuls')))\n",
    "            shutil.move('{}/{}'.format(watchDirectory, file), '{}/{}/'.format('predicted', 'nuls'))\n",
    "    else:\n",
    "        try:\n",
    "            shutil.move('{}/{}'.format(watchDirectory, file), '{}/{}/'.format('predicted', *especies[int(especie[0])]))\n",
    "        except IOError as io_err:\n",
    "            os.makedirs(os.path.dirname('{}/{}/'.format('predicted', *especies[int(especie[0])])))\n",
    "            shutil.move('{}/{}'.format(watchDirectory, file), '{}/{}/'.format('predicted', *especies[int(especie[0])]))\n",
    "        shutil.copytree('{}/{}'.format(prediction_path, 'labels'), '{}/{}'.format('predicted', *especies[int(especie[0])]), dirs_exist_ok=True)\n",
    "    shutil.rmtree(prediction_path)"
   ]
  },
  {
   "cell_type": "code",
   "execution_count": null,
   "id": "8f4da02b",
   "metadata": {
    "scrolled": true
   },
   "outputs": [],
   "source": [
    "for file in onlyfiles:\n",
    "    im = Image.open('{}/{}'.format(watchDirectory, file))\n",
    "    w,h = im.size\n",
    "    impalette = im.getpixel((w/2,h/2))\n",
    "    if impalette[0] == impalette [1] == impalette [2]:\n",
    "        model = YOLO('models/best_BW.pt')\n",
    "        imatge = '{}/{}'.format(watchDirectory, file)\n",
    "        results = model.predict(imatge, save_txt=True, conf=0.6)\n",
    "    else:\n",
    "        model = YOLO('models/best_COLOR.pt')\n",
    "        imatge = '{}/{}'.format(watchDirectory, file)\n",
    "        results = model.predict(imatge, save_txt=True, conf=0.8)\n",
    "    readPredictedSpecies\n",
    "    storefiles(file)"
   ]
  },
  {
   "cell_type": "code",
   "execution_count": null,
   "id": "b148302f-37ff-43ca-a0e4-ec5dce877061",
   "metadata": {},
   "outputs": [],
   "source": []
  }
 ],
 "metadata": {
  "kernelspec": {
   "display_name": "Python 3",
   "language": "python",
   "name": "python3"
  },
  "language_info": {
   "codemirror_mode": {
    "name": "ipython",
    "version": 3
   },
   "file_extension": ".py",
   "mimetype": "text/x-python",
   "name": "python",
   "nbconvert_exporter": "python",
   "pygments_lexer": "ipython3",
   "version": "3.9.18"
  }
 },
 "nbformat": 4,
 "nbformat_minor": 5
}
